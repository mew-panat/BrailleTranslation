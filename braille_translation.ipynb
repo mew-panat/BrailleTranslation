{
  "nbformat": 4,
  "nbformat_minor": 0,
  "metadata": {
    "colab": {
      "name": "braille_translation.ipynb",
      "provenance": [],
      "collapsed_sections": []
    },
    "kernelspec": {
      "name": "python3",
      "display_name": "Python 3"
    },
    "accelerator": "GPU"
  },
  "cells": [
    {
      "cell_type": "code",
      "metadata": {
        "id": "zo2CzAAXfcNi",
        "colab_type": "code",
        "outputId": "9705ca73-6435-49d3-f350-8ab99c24e390",
        "colab": {
          "base_uri": "https://localhost:8080/",
          "height": 122
        }
      },
      "source": [
        "from google.colab import drive\n",
        "drive.mount('/content/drive')"
      ],
      "execution_count": 1,
      "outputs": [
        {
          "output_type": "stream",
          "text": [
            "Go to this URL in a browser: https://accounts.google.com/o/oauth2/auth?client_id=947318989803-6bn6qk8qdgf4n4g3pfee6491hc0brc4i.apps.googleusercontent.com&redirect_uri=urn%3aietf%3awg%3aoauth%3a2.0%3aoob&response_type=code&scope=email%20https%3a%2f%2fwww.googleapis.com%2fauth%2fdocs.test%20https%3a%2f%2fwww.googleapis.com%2fauth%2fdrive%20https%3a%2f%2fwww.googleapis.com%2fauth%2fdrive.photos.readonly%20https%3a%2f%2fwww.googleapis.com%2fauth%2fpeopleapi.readonly\n",
            "\n",
            "Enter your authorization code:\n",
            "··········\n",
            "Mounted at /content/drive\n"
          ],
          "name": "stdout"
        }
      ]
    },
    {
      "cell_type": "code",
      "metadata": {
        "id": "4Kr1c0NSXmKB",
        "colab_type": "code",
        "outputId": "a6cf9bf4-cd44-47ef-f8da-a889ab1df332",
        "colab": {
          "base_uri": "https://localhost:8080/",
          "height": 85
        }
      },
      "source": [
        "!pip install imutils\n",
        "!pip install imageio\n",
        "import os\n",
        "from collections import Counter\n",
        "import matplotlib.pyplot as plt\n",
        "from imutils import contours\n",
        "from skimage import io\n",
        "import numpy as np\n",
        "import imutils\n",
        "import cv2\n",
        "import re\n",
        "\n",
        "import warnings"
      ],
      "execution_count": 2,
      "outputs": [
        {
          "output_type": "stream",
          "text": [
            "Requirement already satisfied: imutils in /usr/local/lib/python3.6/dist-packages (0.5.3)\n",
            "Requirement already satisfied: imageio in /usr/local/lib/python3.6/dist-packages (2.4.1)\n",
            "Requirement already satisfied: numpy in /usr/local/lib/python3.6/dist-packages (from imageio) (1.18.4)\n",
            "Requirement already satisfied: pillow in /usr/local/lib/python3.6/dist-packages (from imageio) (7.0.0)\n"
          ],
          "name": "stdout"
        }
      ]
    },
    {
      "cell_type": "code",
      "metadata": {
        "id": "bTDCb7befRBy",
        "colab_type": "code",
        "outputId": "19e8767c-b006-424e-f6b8-671c4f5904c1",
        "colab": {
          "base_uri": "https://localhost:8080/",
          "height": 34
        }
      },
      "source": [
        "%cd drive/My Drive/Documentary at KMUTT/year 4/CPE463 Image processing/Project"
      ],
      "execution_count": 3,
      "outputs": [
        {
          "output_type": "stream",
          "text": [
            "/content/drive/My Drive/Documentary at KMUTT/year 4/CPE463 Image processing/Project\n"
          ],
          "name": "stdout"
        }
      ]
    },
    {
      "cell_type": "markdown",
      "metadata": {
        "id": "-8hLq8HGrAjg",
        "colab_type": "text"
      },
      "source": [
        "#### Load dataset\n",
        "\n"
      ]
    },
    {
      "cell_type": "code",
      "metadata": {
        "id": "gJc3Y_yQrDE5",
        "colab_type": "code",
        "colab": {}
      },
      "source": [
        "# We have 2 datasets which is word and sentence \n",
        "image_path = \"Images/dataset/sentence\"\n",
        "def loadImages(path):\n",
        "    image_files = sorted([os.path.join(path, file)\n",
        "                          for file in os.listdir(path)\n",
        "                          if file.endswith('.jpg')])\n",
        "    return image_files"
      ],
      "execution_count": 0,
      "outputs": []
    },
    {
      "cell_type": "code",
      "metadata": {
        "id": "Rvkv_Q9zrU_O",
        "colab_type": "code",
        "colab": {}
      },
      "source": [
        "images = loadImages(image_path)"
      ],
      "execution_count": 0,
      "outputs": []
    },
    {
      "cell_type": "code",
      "metadata": {
        "id": "BI_aghbHCNrV",
        "colab_type": "code",
        "colab": {}
      },
      "source": [
        "# sort image name by ascending\n",
        "import re\n",
        "\n",
        "def atoi(text):\n",
        "    return int(text) if text.isdigit() else text\n",
        "\n",
        "def natural_keys(text):\n",
        "    return [ atoi(c) for c in re.split(r'(\\d+)', text) ]"
      ],
      "execution_count": 0,
      "outputs": []
    },
    {
      "cell_type": "code",
      "metadata": {
        "id": "I2yUb69HAicf",
        "colab_type": "code",
        "colab": {}
      },
      "source": [
        "images.sort(key=natural_keys)"
      ],
      "execution_count": 0,
      "outputs": []
    },
    {
      "cell_type": "code",
      "metadata": {
        "id": "yInOiCojCTDa",
        "colab_type": "code",
        "outputId": "724b9ed4-626f-4153-a5d7-977eacc423ad",
        "colab": {
          "base_uri": "https://localhost:8080/",
          "height": 391
        }
      },
      "source": [
        "images"
      ],
      "execution_count": 8,
      "outputs": [
        {
          "output_type": "execute_result",
          "data": {
            "text/plain": [
              "['Images/dataset/sentence/image1.jpg',\n",
              " 'Images/dataset/sentence/image2.jpg',\n",
              " 'Images/dataset/sentence/image3.jpg',\n",
              " 'Images/dataset/sentence/image4.jpg',\n",
              " 'Images/dataset/sentence/image5.jpg',\n",
              " 'Images/dataset/sentence/image6.jpg',\n",
              " 'Images/dataset/sentence/image7.jpg',\n",
              " 'Images/dataset/sentence/image8.jpg',\n",
              " 'Images/dataset/sentence/image9.jpg',\n",
              " 'Images/dataset/sentence/image10.jpg',\n",
              " 'Images/dataset/sentence/image11.jpg',\n",
              " 'Images/dataset/sentence/image12.jpg',\n",
              " 'Images/dataset/sentence/image13.jpg',\n",
              " 'Images/dataset/sentence/image14.jpg',\n",
              " 'Images/dataset/sentence/image15.jpg',\n",
              " 'Images/dataset/sentence/image16.jpg',\n",
              " 'Images/dataset/sentence/image17.jpg',\n",
              " 'Images/dataset/sentence/image18.jpg',\n",
              " 'Images/dataset/sentence/image19.jpg',\n",
              " 'Images/dataset/sentence/image20.jpg',\n",
              " 'Images/dataset/sentence/image21.jpg',\n",
              " 'Images/dataset/sentence/image22.jpg']"
            ]
          },
          "metadata": {
            "tags": []
          },
          "execution_count": 8
        }
      ]
    },
    {
      "cell_type": "markdown",
      "metadata": {
        "id": "oH6rgh3Ix13_",
        "colab_type": "text"
      },
      "source": [
        "#### Read image"
      ]
    },
    {
      "cell_type": "code",
      "metadata": {
        "id": "2PRAJDw5sFuS",
        "colab_type": "code",
        "colab": {}
      },
      "source": [
        "def read_image(image_name):\n",
        "  image = io.imread(image_name)\n",
        "  plt.imshow(image)\n",
        "  return image"
      ],
      "execution_count": 0,
      "outputs": []
    },
    {
      "cell_type": "markdown",
      "metadata": {
        "id": "ka15r0xbx67X",
        "colab_type": "text"
      },
      "source": [
        "#### Image enhancement"
      ]
    },
    {
      "cell_type": "code",
      "metadata": {
        "id": "85ISu0VhsWvn",
        "colab_type": "code",
        "colab": {}
      },
      "source": [
        "def convertToGray(image):\n",
        "  # Since this image is RGB, we will convert to grayscale\n",
        "  gray = cv2.cvtColor(image, cv2.COLOR_BGR2GRAY)\n",
        "\n",
        "  # apply Otsu's thresholding method to binarize the image\n",
        "  thresh = cv2.threshold(gray, 0, 255, cv2.THRESH_BINARY_INV | cv2.THRESH_OTSU)[1]\n",
        "  kernel = np.ones((5,5), np.uint8)\n",
        "  return thresh, kernel"
      ],
      "execution_count": 0,
      "outputs": []
    },
    {
      "cell_type": "code",
      "metadata": {
        "id": "nwF8wGqssOSb",
        "colab_type": "code",
        "colab": {}
      },
      "source": [
        "def image_enhancement(image):\n",
        "  data = image.copy()\n",
        "  thresh, kernel = convertToGray(data)\n",
        "  # erode and dilate to remove some of the unnecessary detail\n",
        "  thresh = cv2.erode(thresh, kernel, iterations = 0)\n",
        "  thresh = cv2.dilate(thresh, kernel, iterations = 0)\n",
        "  plt.imshow(thresh)\n",
        "  return thresh"
      ],
      "execution_count": 0,
      "outputs": []
    },
    {
      "cell_type": "markdown",
      "metadata": {
        "id": "LzjtgCR-9dGC",
        "colab_type": "text"
      },
      "source": [
        "#### Get edges and contours of image"
      ]
    },
    {
      "cell_type": "code",
      "metadata": {
        "id": "fHlGRa_YtA2X",
        "colab_type": "code",
        "colab": {}
      },
      "source": [
        "def get_contours(thresh):\n",
        "  # Get contours in the thresholded image\n",
        "  # RETR_EXTERNAL only external contours will be kept (no circles inside other circles)\n",
        "  # CHAIN_APPROX_SIMPLE contour is simplified by reducing the number of points\n",
        "    \n",
        "  contours = cv2.findContours(thresh.copy(), cv2.RETR_EXTERNAL, cv2.CHAIN_APPROX_SIMPLE) # This will return the set of outline\n",
        "  contours = imutils.grab_contours(contours) \n",
        "  return contours"
      ],
      "execution_count": 0,
      "outputs": []
    },
    {
      "cell_type": "code",
      "metadata": {
        "id": "ui64Hg1ytJZe",
        "colab_type": "code",
        "colab": {}
      },
      "source": [
        "def get_edges():\n",
        "  # Remove noise by apply gaussian filter\n",
        "  blurred = cv2.GaussianBlur(gray, (5, 5), 0)\n",
        "  # Get egdes \n",
        "  # Apply Canny Edge Detection\n",
        "  edged = cv2.Canny(blurred, 75, 200)\n",
        "  plt.imshow(edges)\n",
        "  return edges"
      ],
      "execution_count": 0,
      "outputs": []
    },
    {
      "cell_type": "markdown",
      "metadata": {
        "id": "hIAhZzCw9ixS",
        "colab_type": "text"
      },
      "source": [
        "#### Getting diameter of black circle"
      ]
    },
    {
      "cell_type": "code",
      "metadata": {
        "id": "QORpT8BIuH-F",
        "colab_type": "code",
        "colab": {}
      },
      "source": [
        "def get_diameter(contours):\n",
        "  # This will return in term x,y,w,h\n",
        "  boundingBoxes = [list(cv2.boundingRect(c)) for c in contours]\n",
        "  print(\"Bounding boxes: \" + str(boundingBoxes))\n",
        "    \n",
        "  c = Counter([i[2] for i in boundingBoxes])\n",
        "\n",
        "  mode = c.most_common(1)[0][0]\n",
        "  if mode > 1:\n",
        "    diameter = mode\n",
        "  else:\n",
        "    diameter = c.most_common(2)[1][0]\n",
        "  return diameter"
      ],
      "execution_count": 0,
      "outputs": []
    },
    {
      "cell_type": "markdown",
      "metadata": {
        "id": "k5Ldpa5Rue4-",
        "colab_type": "text"
      },
      "source": [
        "We have to store all circles that contours found by selecting only circle that had width fell within a certain range of the determined diameter and had a ratio of height to width close to 1. It could also be verified that the majority of the pixels inside the contour are black to prevent selecting “empty” dots"
      ]
    },
    {
      "cell_type": "markdown",
      "metadata": {
        "id": "O61oyhva_DKd",
        "colab_type": "text"
      },
      "source": [
        "#### Getting bounding box of black dots"
      ]
    },
    {
      "cell_type": "code",
      "metadata": {
        "id": "WrtVkgG4trIT",
        "colab_type": "code",
        "colab": {}
      },
      "source": [
        "def get_boundingBoxes(contours, image):\n",
        "  diameter = get_diameter(contours)\n",
        "\n",
        "  circles = []\n",
        "  for c in contours:\n",
        "    (x, y, w, h) = cv2.boundingRect(c)\n",
        "    ratio = w / float(h)\n",
        "    if diameter*0.8 <= w <= diameter*1.2 and 0.8 <= ratio <= 1.2:\n",
        "      circles.append(c)   \n",
        "\n",
        "  BB = [list(cv2.boundingRect(c)) for c in circles]\n",
        "   # list of sorted contours and bounding boxes\n",
        "  (circle, boundingBox) = zip(*sorted(zip(contours, BB), key = lambda b: b[1][1]*len(image) + b[1][0]))\n",
        "\n",
        "  return boundingBox"
      ],
      "execution_count": 0,
      "outputs": []
    },
    {
      "cell_type": "markdown",
      "metadata": {
        "id": "NIbPfpP9EgQO",
        "colab_type": "text"
      },
      "source": [
        "#### Translate image to text"
      ]
    },
    {
      "cell_type": "markdown",
      "metadata": {
        "id": "XWLk3l5zHWzL",
        "colab_type": "text"
      },
      "source": [
        "black dot we can find by bounding box position if position exist then we mask this position to 1s'"
      ]
    },
    {
      "cell_type": "code",
      "metadata": {
        "id": "JkLjOaTEA8aR",
        "colab_type": "code",
        "colab": {}
      },
      "source": [
        "def draw_contour(image, contours, boundingBoxes):\n",
        "  from google.colab.patches import cv2_imshow\n",
        "  data = image.copy()\n",
        "  color = (0, 255, 0)\n",
        "  i = 0  \n",
        "  for q in range(len(contours)):\n",
        "    cv2.drawContours(data, contours[q], -1, color, 3)\n",
        "    cv2.putText(data, str(i), (boundingBoxes[q][0] + boundingBoxes[q][2]//2, boundingBoxes[q][1] + boundingBoxes[q][3]//2), cv2.FONT_HERSHEY_SIMPLEX, 0.5, (255, 0, 0), 2)\n",
        "    i += 1\n",
        "  # show the image\n",
        "  cv2_imshow(image)\n",
        "  cv2.waitKey(0)"
      ],
      "execution_count": 0,
      "outputs": []
    },
    {
      "cell_type": "markdown",
      "metadata": {
        "id": "uZ-NTzmMKXo1",
        "colab_type": "text"
      },
      "source": [
        "get letters"
      ]
    },
    {
      "cell_type": "code",
      "metadata": {
        "id": "YUbXgYD-v-mY",
        "colab_type": "code",
        "colab": {}
      },
      "source": [
        "# mask position of black dots with 1s'\n",
        "def mask_dots(letters,x,y):\n",
        "  if x == 1:\n",
        "    if y == 1:\n",
        "      letters[0] = 1\n",
        "    elif y == 41:\n",
        "      letters[2] = 1\n",
        "    else:\n",
        "      letters[4] = 1\n",
        "  elif x == 41:\n",
        "    if y == 1:\n",
        "      letters[1] = 1\n",
        "    elif y == 41:\n",
        "      letters[3] = 1\n",
        "    else:\n",
        "      letters[5] = 1"
      ],
      "execution_count": 0,
      "outputs": []
    },
    {
      "cell_type": "code",
      "metadata": {
        "id": "mJdn8K6xvfQb",
        "colab_type": "code",
        "colab": {}
      },
      "source": [
        "def get_letters(boundingBoxes):\n",
        "  # create a list to store position of black dots\n",
        "  letters = []\n",
        "  for r in range(6):\n",
        "    letters.append(0)\n",
        "    continue\n",
        "  print(\"List of letters: \" + str(letters))\n",
        "\n",
        "  minYD = 42\n",
        "  Bxs = list(boundingBoxes)\n",
        "  Bxs.append((100000, 0))\n",
        "\n",
        "  dots = [[]]\n",
        "\n",
        "  # Get dots from postion of bounding boxes\n",
        "  for b in range(len(Bxs)-1):\n",
        "    # if in column 1 (• ○) \n",
        "    if Bxs[b][0] < Bxs[b+1][0]:      \n",
        "        dots[-1].append((b, Bxs[b][0:2]))        \n",
        "        print(\"Column 1: \" + str(Bxs[b][0:2]))\n",
        "        mask_dots(letters,Bxs[b][0], Bxs[b][1])    \n",
        "    \n",
        "    # if in column 2 (○ •) \n",
        "    else:\n",
        "      dots[-1].append((b, Bxs[b][0:2]))\n",
        "      print(\"Column 2: \" + str(Bxs[b][0:2]))\n",
        "      mask_dots(letters,Bxs[b][0], Bxs[b][1])  \n",
        "\n",
        "      # if difference height between 2 dots is \n",
        "      if abs(Bxs[b+1][1] - Bxs[b][1]) > minYD:  \n",
        "        if len(dots)%3 == 0 and not dots[-1]:\n",
        "          dots.append([])\n",
        "\n",
        "  for d in dots: \n",
        "    print(d)\n",
        "    \n",
        "  return letters"
      ],
      "execution_count": 0,
      "outputs": []
    },
    {
      "cell_type": "code",
      "metadata": {
        "id": "g0xORPmewmt3",
        "colab_type": "code",
        "colab": {}
      },
      "source": [
        "def braille_dictionary():\n",
        "  # create dictionary of black dots position\n",
        "  characters = {'A': '1', 'B': '13', 'C': '12', 'D': '124', 'E': '14', 'F': '123',\n",
        "            'G': '1234', 'H': '134', 'I': '23', 'J': '234', 'K': '15',\n",
        "            'L': '135', 'M': '125', 'N': '1245', 'O': '145', 'P': '1235',\n",
        "            'Q': '12345', 'R': '1345', 'S': '235', 'T': '2345', 'U': '156',\n",
        "            'V': '1356', 'W': '2346', 'X': '1256', 'Y': '12456', 'Z': '1456',\n",
        "          '#': '2456'}\n",
        "  nums = {'A': '1', 'B': '2', 'C': '3', 'D': '4', 'E': '5', 'F': '6', 'G': '7', 'H': '8', 'I': '9', 'J': '0'}\n",
        "  return characters, nums"
      ],
      "execution_count": 0,
      "outputs": []
    },
    {
      "cell_type": "code",
      "metadata": {
        "id": "8LYWxpgxwxhJ",
        "colab_type": "code",
        "colab": {}
      },
      "source": [
        "def translate(letters):\n",
        "  characters, nums = braille_dictionary()\n",
        "\n",
        "  braille = {v: k for k, v in characters.items()}\n",
        "  letters = np.array([np.array(l) for l in letters])\n",
        "\n",
        "  ans  = ''\n",
        "  f = letters.flatten()\n",
        "  f = ''.join([str(i + 1) for i,d in enumerate(f) if d == 1])\n",
        "  print(\"Black dots position: \" + str(f))\n",
        "  if f in braille.keys():\n",
        "    ans += braille[f]\n",
        "  else:\n",
        "    ans += ' '\n",
        "  \n",
        "  print(\"Translated: \" + str(ans))\n",
        "  return ans"
      ],
      "execution_count": 0,
      "outputs": []
    },
    {
      "cell_type": "markdown",
      "metadata": {
        "id": "D39Z7n-cySNk",
        "colab_type": "text"
      },
      "source": [
        "## Translate"
      ]
    },
    {
      "cell_type": "markdown",
      "metadata": {
        "id": "l7X6rlMKr6Td",
        "colab_type": "text"
      },
      "source": [
        "#### Braille translation function"
      ]
    },
    {
      "cell_type": "code",
      "metadata": {
        "id": "uSNYJk6ZsAAq",
        "colab_type": "code",
        "colab": {}
      },
      "source": [
        "def braille_translate(path):\n",
        "  image = read_image(path)\n",
        "  thresh = image_enhancement(image)\n",
        "  contours = get_contours(thresh)\n",
        "  boundingBoxes = get_boundingBoxes(contours, image)\n",
        "  draw_contour(image, contours, boundingBoxes)\n",
        "  letters = get_letters(boundingBoxes)\n",
        "  letter = translate(letters)\n",
        "  return letter"
      ],
      "execution_count": 0,
      "outputs": []
    },
    {
      "cell_type": "markdown",
      "metadata": {
        "id": "AzhNwURAIGSi",
        "colab_type": "text"
      },
      "source": [
        "#### Test with dataset"
      ]
    },
    {
      "cell_type": "code",
      "metadata": {
        "id": "NQGMIqIHbx3Z",
        "colab_type": "code",
        "colab": {}
      },
      "source": [
        "# replace numbers\n",
        "def replace_nums(key, ans):\n",
        "    character, nums = braille_dictionary()\n",
        "    num =  nums.get(key)\n",
        "    ans = re.sub('#(?P<key>[a-zA-Z])', num, ans)\n",
        "\n",
        "    return ans"
      ],
      "execution_count": 0,
      "outputs": []
    },
    {
      "cell_type": "code",
      "metadata": {
        "id": "hYL66MN0xQOt",
        "colab_type": "code",
        "outputId": "3a074038-4c81-4558-ca2a-b877163f1df1",
        "colab": {
          "base_uri": "https://localhost:8080/",
          "height": 1000
        }
      },
      "source": [
        "translated = ''\n",
        "for i in range(0, len(images)):\n",
        "\n",
        "  # save previous letter\n",
        "  if translated == '':\n",
        "    prevLetter = ''\n",
        "  else:\n",
        "    prevLetter = translated[-1]\n",
        "\n",
        "  c = braille_translate(images[i])  \n",
        "  translated += str(c)\n",
        "  \n",
        "  # Check if number\n",
        "  if prevLetter == '#':    \n",
        "    translated = replace_nums(c, translated)"
      ],
      "execution_count": 23,
      "outputs": [
        {
          "output_type": "stream",
          "text": [
            "Bounding boxes: [[1, 41, 26, 26], [41, 1, 26, 26]]\n"
          ],
          "name": "stdout"
        },
        {
          "output_type": "display_data",
          "data": {
            "image/png": "[encoded data removed]",
            "text/plain": [
              "<PIL.Image.Image image mode=RGB size=67x107 at 0x7FF303558908>"
            ]
          },
          "metadata": {
            "tags": []
          }
        },
        {
          "output_type": "stream",
          "text": [
            "List of letters: [0, 0, 0, 0, 0, 0]\n",
            "Column 2: [41, 1]\n",
            "Column 1: [1, 41]\n",
            "[(0, [41, 1]), (1, [1, 41])]\n",
            "Black dots position: 23\n",
            "Translated: I\n",
            "Bounding boxes: [[41, 81, 26, 26], [1, 81, 26, 26], [41, 41, 26, 26], [1, 41, 26, 26], [41, 1, 26, 26], [1, 1, 26, 26]]\n"
          ],
          "name": "stdout"
        },
        {
          "output_type": "display_data",
          "data": {
            "image/png": "[encoded data removed]",
            "text/plain": [
              "<PIL.Image.Image image mode=RGB size=67x107 at 0x7FF303558FD0>"
            ]
          },
          "metadata": {
            "tags": []
          }
        },
        {
          "output_type": "stream",
          "text": [
            "List of letters: [0, 0, 0, 0, 0, 0]\n",
            "Column 1: [1, 1]\n",
            "Column 2: [41, 1]\n",
            "Column 1: [1, 41]\n",
            "Column 2: [41, 41]\n",
            "Column 1: [1, 81]\n",
            "Column 1: [41, 81]\n",
            "[(0, [1, 1]), (1, [41, 1]), (2, [1, 41]), (3, [41, 41]), (4, [1, 81]), (5, [41, 81])]\n",
            "Black dots position: 123456\n",
            "Translated:  \n",
            "Bounding boxes: [[41, 41, 26, 26], [1, 41, 26, 26], [1, 1, 26, 26]]\n"
          ],
          "name": "stdout"
        },
        {
          "output_type": "display_data",
          "data": {
            "image/png": "[encoded data removed]",
            "text/plain": [
              "<PIL.Image.Image image mode=RGB size=67x107 at 0x7FF3035754E0>"
            ]
          },
          "metadata": {
            "tags": []
          }
        },
        {
          "output_type": "stream",
          "text": [
            "List of letters: [0, 0, 0, 0, 0, 0]\n",
            "Column 2: [1, 1]\n",
            "Column 1: [1, 41]\n",
            "Column 1: [41, 41]\n",
            "[(0, [1, 1]), (1, [1, 41]), (2, [41, 41])]\n",
            "Black dots position: 134\n",
            "Translated: H\n",
            "Bounding boxes: [[1, 1, 26, 26]]\n"
          ],
          "name": "stdout"
        },
        {
          "output_type": "display_data",
          "data": {
            "image/png": "[encoded data removed]",
            "text/plain": [
              "<PIL.Image.Image image mode=RGB size=67x107 at 0x7FF3035759B0>"
            ]
          },
          "metadata": {
            "tags": []
          }
        },
        {
          "output_type": "stream",
          "text": [
            "List of letters: [0, 0, 0, 0, 0, 0]\n",
            "Column 1: [1, 1]\n",
            "[(0, [1, 1])]\n",
            "Black dots position: 1\n",
            "Translated: A\n",
            "Bounding boxes: [[41, 81, 26, 26], [1, 81, 26, 26], [1, 41, 26, 26], [1, 1, 26, 26]]\n"
          ],
          "name": "stdout"
        },
        {
          "output_type": "display_data",
          "data": {
            "image/png": "[encoded data removed]",
            "text/plain": [
              "<PIL.Image.Image image mode=RGB size=67x107 at 0x7FF303575F98>"
            ]
          },
          "metadata": {
            "tags": []
          }
        },
        {
          "output_type": "stream",
          "text": [
            "List of letters: [0, 0, 0, 0, 0, 0]\n",
            "Column 2: [1, 1]\n",
            "Column 2: [1, 41]\n",
            "Column 1: [1, 81]\n",
            "Column 1: [41, 81]\n",
            "[(0, [1, 1]), (1, [1, 41]), (2, [1, 81]), (3, [41, 81])]\n",
            "Black dots position: 1356\n",
            "Translated: V\n",
            "Bounding boxes: [[41, 41, 26, 26], [1, 1, 26, 26]]\n"
          ],
          "name": "stdout"
        },
        {
          "output_type": "display_data",
          "data": {
            "image/png": "[encoded data removed]",
            "text/plain": [
              "<PIL.Image.Image image mode=RGB size=67x107 at 0x7FF303581438>"
            ]
          },
          "metadata": {
            "tags": []
          }
        },
        {
          "output_type": "stream",
          "text": [
            "List of letters: [0, 0, 0, 0, 0, 0]\n",
            "Column 1: [1, 1]\n",
            "Column 1: [41, 41]\n",
            "[(0, [1, 1]), (1, [41, 41])]\n",
            "Black dots position: 14\n",
            "Translated: E\n",
            "Bounding boxes: [[41, 81, 26, 26], [1, 81, 26, 26], [41, 41, 26, 26], [1, 41, 26, 26], [41, 1, 26, 26], [1, 1, 26, 26]]\n"
          ],
          "name": "stdout"
        },
        {
          "output_type": "display_data",
          "data": {
            "image/png": "[encoded data removed]",
            "text/plain": [
              "<PIL.Image.Image image mode=RGB size=67x107 at 0x7FF3035819E8>"
            ]
          },
          "metadata": {
            "tags": []
          }
        },
        {
          "output_type": "stream",
          "text": [
            "List of letters: [0, 0, 0, 0, 0, 0]\n",
            "Column 1: [1, 1]\n",
            "Column 2: [41, 1]\n",
            "Column 1: [1, 41]\n",
            "Column 2: [41, 41]\n",
            "Column 1: [1, 81]\n",
            "Column 1: [41, 81]\n",
            "[(0, [1, 1]), (1, [41, 1]), (2, [1, 41]), (3, [41, 41]), (4, [1, 81]), (5, [41, 81])]\n",
            "Black dots position: 123456\n",
            "Translated:  \n",
            "Bounding boxes: [[41, 81, 26, 26], [1, 81, 26, 26], [41, 41, 26, 26], [41, 1, 26, 26]]\n"
          ],
          "name": "stdout"
        },
        {
          "output_type": "display_data",
          "data": {
            "image/png": "[encoded data removed]",
            "text/plain": [
              "<PIL.Image.Image image mode=RGB size=68x107 at 0x7FF30358FB70>"
            ]
          },
          "metadata": {
            "tags": []
          }
        },
        {
          "output_type": "stream",
          "text": [
            "List of letters: [0, 0, 0, 0, 0, 0]\n",
            "Column 2: [41, 1]\n",
            "Column 2: [41, 41]\n",
            "Column 1: [1, 81]\n",
            "Column 1: [41, 81]\n",
            "[(0, [41, 1]), (1, [41, 41]), (2, [1, 81]), (3, [41, 81])]\n",
            "Black dots position: 2456\n",
            "Translated: #\n",
            "Bounding boxes: [[1, 41, 26, 26], [1, 1, 26, 26]]\n"
          ],
          "name": "stdout"
        },
        {
          "output_type": "display_data",
          "data": {
            "image/png": "[encoded data removed]",
            "text/plain": [
              "<PIL.Image.Image image mode=RGB size=67x107 at 0x7FF30358FF98>"
            ]
          },
          "metadata": {
            "tags": []
          }
        },
        {
          "output_type": "stream",
          "text": [
            "List of letters: [0, 0, 0, 0, 0, 0]\n",
            "Column 2: [1, 1]\n",
            "Column 1: [1, 41]\n",
            "[(0, [1, 1]), (1, [1, 41])]\n",
            "Black dots position: 13\n",
            "Translated: B\n",
            "Bounding boxes: [[41, 81, 26, 26], [1, 81, 26, 26], [41, 41, 26, 26], [1, 41, 26, 26], [41, 1, 26, 26], [1, 1, 26, 26]]\n"
          ],
          "name": "stdout"
        },
        {
          "output_type": "display_data",
          "data": {
            "image/png": "[encoded data removed]",
            "text/plain": [
              "<PIL.Image.Image image mode=RGB size=67x107 at 0x7FF30351B5C0>"
            ]
          },
          "metadata": {
            "tags": []
          }
        },
        {
          "output_type": "stream",
          "text": [
            "List of letters: [0, 0, 0, 0, 0, 0]\n",
            "Column 1: [1, 1]\n",
            "Column 2: [41, 1]\n",
            "Column 1: [1, 41]\n",
            "Column 2: [41, 41]\n",
            "Column 1: [1, 81]\n",
            "Column 1: [41, 81]\n",
            "[(0, [1, 1]), (1, [41, 1]), (2, [1, 41]), (3, [41, 41]), (4, [1, 81]), (5, [41, 81])]\n",
            "Black dots position: 123456\n",
            "Translated:  \n",
            "Bounding boxes: [[41, 1, 26, 26], [1, 1, 26, 26]]\n"
          ],
          "name": "stdout"
        },
        {
          "output_type": "display_data",
          "data": {
            "image/png": "[encoded data removed]",
            "text/plain": [
              "<PIL.Image.Image image mode=RGB size=67x107 at 0x7FF30351B9B0>"
            ]
          },
          "metadata": {
            "tags": []
          }
        },
        {
          "output_type": "stream",
          "text": [
            "List of letters: [0, 0, 0, 0, 0, 0]\n",
            "Column 1: [1, 1]\n",
            "Column 1: [41, 1]\n",
            "[(0, [1, 1]), (1, [41, 1])]\n",
            "Black dots position: 12\n",
            "Translated: C\n",
            "Bounding boxes: [[1, 1, 26, 26]]\n"
          ],
          "name": "stdout"
        },
        {
          "output_type": "display_data",
          "data": {
            "image/png": "[encoded data removed]",
            "text/plain": [
              "<PIL.Image.Image image mode=RGB size=67x107 at 0x7FF30351BE48>"
            ]
          },
          "metadata": {
            "tags": []
          }
        },
        {
          "output_type": "stream",
          "text": [
            "List of letters: [0, 0, 0, 0, 0, 0]\n",
            "Column 1: [1, 1]\n",
            "[(0, [1, 1])]\n",
            "Black dots position: 1\n",
            "Translated: A\n",
            "Bounding boxes: [[1, 81, 26, 26], [41, 41, 26, 26], [1, 41, 26, 26], [41, 1, 26, 26]]\n"
          ],
          "name": "stdout"
        },
        {
          "output_type": "display_data",
          "data": {
            "image/png": "[encoded data removed]",
            "text/plain": [
              "<PIL.Image.Image image mode=RGB size=67x107 at 0x7FF30352B400>"
            ]
          },
          "metadata": {
            "tags": []
          }
        },
        {
          "output_type": "stream",
          "text": [
            "List of letters: [0, 0, 0, 0, 0, 0]\n",
            "Column 2: [41, 1]\n",
            "Column 1: [1, 41]\n",
            "Column 2: [41, 41]\n",
            "Column 1: [1, 81]\n",
            "[(0, [41, 1]), (1, [1, 41]), (2, [41, 41]), (3, [1, 81])]\n",
            "Black dots position: 2345\n",
            "Translated: T\n",
            "Bounding boxes: [[1, 81, 26, 26], [1, 41, 26, 26], [41, 1, 26, 26]]\n"
          ],
          "name": "stdout"
        },
        {
          "output_type": "display_data",
          "data": {
            "image/png": "[encoded data removed]",
            "text/plain": [
              "<PIL.Image.Image image mode=RGB size=67x107 at 0x7FF30352B898>"
            ]
          },
          "metadata": {
            "tags": []
          }
        },
        {
          "output_type": "stream",
          "text": [
            "List of letters: [0, 0, 0, 0, 0, 0]\n",
            "Column 2: [41, 1]\n",
            "Column 2: [1, 41]\n",
            "Column 1: [1, 81]\n",
            "[(0, [41, 1]), (1, [1, 41]), (2, [1, 81])]\n",
            "Black dots position: 235\n",
            "Translated: S\n",
            "Bounding boxes: [[41, 81, 26, 26], [1, 81, 26, 26], [41, 41, 26, 26], [1, 41, 26, 26], [41, 1, 26, 26], [1, 1, 26, 26]]\n"
          ],
          "name": "stdout"
        },
        {
          "output_type": "display_data",
          "data": {
            "image/png": "[encoded data removed]",
            "text/plain": [
              "<PIL.Image.Image image mode=RGB size=67x107 at 0x7FF30352BE10>"
            ]
          },
          "metadata": {
            "tags": []
          }
        },
        {
          "output_type": "stream",
          "text": [
            "List of letters: [0, 0, 0, 0, 0, 0]\n",
            "Column 1: [1, 1]\n",
            "Column 2: [41, 1]\n",
            "Column 1: [1, 41]\n",
            "Column 2: [41, 41]\n",
            "Column 1: [1, 81]\n",
            "Column 1: [41, 81]\n",
            "[(0, [1, 1]), (1, [41, 1]), (2, [1, 41]), (3, [41, 41]), (4, [1, 81]), (5, [41, 81])]\n",
            "Black dots position: 123456\n",
            "Translated:  \n",
            "Bounding boxes: [[1, 1, 26, 26]]\n"
          ],
          "name": "stdout"
        },
        {
          "output_type": "display_data",
          "data": {
            "image/png": "[encoded data removed]",
            "text/plain": [
              "<PIL.Image.Image image mode=RGB size=67x107 at 0x7FF303538208>"
            ]
          },
          "metadata": {
            "tags": []
          }
        },
        {
          "output_type": "stream",
          "text": [
            "List of letters: [0, 0, 0, 0, 0, 0]\n",
            "Column 1: [1, 1]\n",
            "[(0, [1, 1])]\n",
            "Black dots position: 1\n",
            "Translated: A\n",
            "Bounding boxes: [[1, 81, 26, 26], [41, 41, 26, 26], [1, 41, 26, 26], [41, 1, 26, 26]]\n"
          ],
          "name": "stdout"
        },
        {
          "output_type": "display_data",
          "data": {
            "image/png": "[encoded data removed]",
            "text/plain": [
              "<PIL.Image.Image image mode=RGB size=67x107 at 0x7FF303538780>"
            ]
          },
          "metadata": {
            "tags": []
          }
        },
        {
          "output_type": "stream",
          "text": [
            "List of letters: [0, 0, 0, 0, 0, 0]\n",
            "Column 2: [41, 1]\n",
            "Column 1: [1, 41]\n",
            "Column 2: [41, 41]\n",
            "Column 1: [1, 81]\n",
            "[(0, [41, 1]), (1, [1, 41]), (2, [41, 41]), (3, [1, 81])]\n",
            "Black dots position: 2345\n",
            "Translated: T\n",
            "Bounding boxes: [[41, 81, 26, 26], [1, 81, 26, 26], [41, 41, 26, 26], [1, 41, 26, 26], [41, 1, 26, 26], [1, 1, 26, 26]]\n"
          ],
          "name": "stdout"
        },
        {
          "output_type": "display_data",
          "data": {
            "image/png": "[encoded data removed]",
            "text/plain": [
              "<PIL.Image.Image image mode=RGB size=67x107 at 0x7FF303538CC0>"
            ]
          },
          "metadata": {
            "tags": []
          }
        },
        {
          "output_type": "stream",
          "text": [
            "List of letters: [0, 0, 0, 0, 0, 0]\n",
            "Column 1: [1, 1]\n",
            "Column 2: [41, 1]\n",
            "Column 1: [1, 41]\n",
            "Column 2: [41, 41]\n",
            "Column 1: [1, 81]\n",
            "Column 1: [41, 81]\n",
            "[(0, [1, 1]), (1, [41, 1]), (2, [1, 41]), (3, [41, 41]), (4, [1, 81]), (5, [41, 81])]\n",
            "Black dots position: 123456\n",
            "Translated:  \n",
            "Bounding boxes: [[41, 41, 26, 26], [1, 41, 26, 26], [1, 1, 26, 26]]\n"
          ],
          "name": "stdout"
        },
        {
          "output_type": "display_data",
          "data": {
            "image/png": "[encoded data removed]",
            "text/plain": [
              "<PIL.Image.Image image mode=RGB size=67x107 at 0x7FF303549128>"
            ]
          },
          "metadata": {
            "tags": []
          }
        },
        {
          "output_type": "stream",
          "text": [
            "List of letters: [0, 0, 0, 0, 0, 0]\n",
            "Column 2: [1, 1]\n",
            "Column 1: [1, 41]\n",
            "Column 1: [41, 41]\n",
            "[(0, [1, 1]), (1, [1, 41]), (2, [41, 41])]\n",
            "Black dots position: 134\n",
            "Translated: H\n",
            "Bounding boxes: [[1, 81, 26, 26], [41, 41, 26, 26], [1, 1, 26, 26]]\n"
          ],
          "name": "stdout"
        },
        {
          "output_type": "display_data",
          "data": {
            "image/png": "[encoded data removed]",
            "text/plain": [
              "<PIL.Image.Image image mode=RGB size=67x107 at 0x7FF30354B5F8>"
            ]
          },
          "metadata": {
            "tags": []
          }
        },
        {
          "output_type": "stream",
          "text": [
            "List of letters: [0, 0, 0, 0, 0, 0]\n",
            "Column 1: [1, 1]\n",
            "Column 2: [41, 41]\n",
            "Column 1: [1, 81]\n",
            "[(0, [1, 1]), (1, [41, 41]), (2, [1, 81])]\n",
            "Black dots position: 145\n",
            "Translated: O\n",
            "Bounding boxes: [[1, 81, 26, 26], [41, 1, 26, 26], [1, 1, 26, 26]]\n"
          ],
          "name": "stdout"
        },
        {
          "output_type": "display_data",
          "data": {
            "image/png": "[encoded data removed]",
            "text/plain": [
              "<PIL.Image.Image image mode=RGB size=67x107 at 0x7FF30354BAC8>"
            ]
          },
          "metadata": {
            "tags": []
          }
        },
        {
          "output_type": "stream",
          "text": [
            "List of letters: [0, 0, 0, 0, 0, 0]\n",
            "Column 1: [1, 1]\n",
            "Column 2: [41, 1]\n",
            "Column 1: [1, 81]\n",
            "[(0, [1, 1]), (1, [41, 1]), (2, [1, 81])]\n",
            "Black dots position: 125\n",
            "Translated: M\n",
            "Bounding boxes: [[41, 41, 26, 26], [1, 1, 26, 26]]\n"
          ],
          "name": "stdout"
        },
        {
          "output_type": "display_data",
          "data": {
            "image/png": "[encoded data removed]",
            "text/plain": [
              "<PIL.Image.Image image mode=RGB size=67x107 at 0x7FF30354BF60>"
            ]
          },
          "metadata": {
            "tags": []
          }
        },
        {
          "output_type": "stream",
          "text": [
            "List of letters: [0, 0, 0, 0, 0, 0]\n",
            "Column 1: [1, 1]\n",
            "Column 1: [41, 41]\n",
            "[(0, [1, 1]), (1, [41, 41])]\n",
            "Black dots position: 14\n",
            "Translated: E\n"
          ],
          "name": "stdout"
        },
        {
          "output_type": "display_data",
          "data": {
            "image/png": "[encoded data removed]",
            "text/plain": [
              "<Figure size 432x288 with 1 Axes>"
            ]
          },
          "metadata": {
            "tags": [],
            "needs_background": "light"
          }
        }
      ]
    },
    {
      "cell_type": "code",
      "metadata": {
        "id": "t_jEAls5zQom",
        "colab_type": "code",
        "outputId": "ad754ae4-aebd-457e-b5d9-7d2995c0071c",
        "colab": {
          "base_uri": "https://localhost:8080/",
          "height": 34
        }
      },
      "source": [
        "print(\"Result translated: \" + translated)"
      ],
      "execution_count": 24,
      "outputs": [
        {
          "output_type": "stream",
          "text": [
            "Result translated: I HAVE 2 CATS AT HOME\n"
          ],
          "name": "stdout"
        }
      ]
    }
  ]
}